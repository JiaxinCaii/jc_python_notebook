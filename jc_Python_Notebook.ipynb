{
 "cells": [
  {
   "cell_type": "markdown",
   "metadata": {},
   "source": [
    "# Python Notebook\n",
    "This handbook covers essential and advanced Python topics with examples and explanations."
   ]
  },
  {
   "cell_type": "markdown",
   "metadata": {},
   "source": [
    "## Table of Contents\n",
    "\n",
    "- [1 Basic](#1-Basic)\n",
    "- [1.1 Syntax](#1.1-Syntax)\n",
    "  - [1.1.1 Indentation](#1.1.1-Indentation)\n",
    "  - [1.1.2 Comments](#1.1.2-Comments)\n",
    "  - [1.1.3 Variables](#1.1.3-Variables)\n",
    "  - [1.1.4 Data Types](#1.1.4-Data-types)\n",
    "- [2 Operators](#2-Operators)\n",
    "  - [2.1 Arithmetic Operators](#2.1-Arithmetic-Operators)\n",
    "  - [2.2 Comparison Operators](#2.2-Comparison-Operators)\n",
    "  - [2.3 Logical Operators](#2.3-Logical-Operators)\n",
    "  - [2.4 Assignment Operators](#2.4-Assignment-Operators)\n",
    "- [3 Control Flow](#3-Control-flow)\n",
    "    - [3.1 Conditional Statements](#3.1-Conditional-Statements)\n",
    "    - [3.2 Loops](#3.2-Loops)\n",
    "- [4 Python Functions](#4.1Python-Functions)\n",
    "- [5 Data Structures](#5-Data-Structures)\n",
    "    - [5.1 Lists](#5.1-Lists)\n",
    "    - [5.2 Tuples](#5.2-Tuples)\n",
    "    - [5.3 Dictionaries](#5.3-Dictionaries)\n",
    "    - [5.4 Sets](#5.4-Sets)\n",
    "- [6 File Handling](#6-File-Handling)\n",
    "- [7 Error Handling](#7-Error-Handling)\n",
    "- [8 Object-Oriented Programming](#8-Object--oriented-Programming)\n",
    "- [9 Modules and Packages](#9-Modules-and-Packages)\n",
    "- [10 Advanced Topics](#10-Advanced-Topics)"
   ]
  },
  {
   "cell_type": "markdown",
   "metadata": {},
   "source": [
    "## 1 Basic"
   ]
  },
  {
   "cell_type": "markdown",
   "metadata": {},
   "source": [
    "### 1.1 Syntax\n",
    "Python syntax is designed to be easy to read and understand. Key aspects include:\n",
    "- **Indentation**: Python uses indentation to define code blocks.\n",
    "- **Comments**: Helpful for documentation.\n",
    "- **Variables**: Containers for storing data values.\n",
    "- **Data Types**: Define the nature of data stored in variables.\n"
   ]
  },
  {
   "cell_type": "markdown",
   "metadata": {},
   "source": [
    "#### 1.1.1 Indentation\n",
    "Indentation in Python is mandatory and helps define code blocks. Each block level is indented by 4 spaces."
   ]
  },
  {
   "cell_type": "code",
   "execution_count": 6,
   "metadata": {},
   "outputs": [
    {
     "name": "stdout",
     "output_type": "stream",
     "text": [
      "This line is indented.\n"
     ]
    }
   ],
   "source": [
    "def example_function():\n",
    "    if True:\n",
    "        print(\"This line is indented.\")\n",
    "example_function()"
   ]
  },
  {
   "cell_type": "markdown",
   "metadata": {},
   "source": [
    "#### 1.1.2 Comments\n",
    "Comments in Python start with `#` and are not executed by the interpreter. Multi-line comments can be written with triple quotes."
   ]
  },
  {
   "cell_type": "code",
   "execution_count": 8,
   "metadata": {},
   "outputs": [
    {
     "name": "stdout",
     "output_type": "stream",
     "text": [
      "Comments are ignored by the interpreter.\n"
     ]
    }
   ],
   "source": [
    "# This is a single-line comment\n",
    "\"\"\"This is a multi-line comment\n",
    "spanning multiple lines.\"\"\"\n",
    "print(\"Comments are ignored by the interpreter.\")"
   ]
  },
  {
   "cell_type": "markdown",
   "metadata": {},
   "source": [
    "#### 1.1.3 Variables\n",
    "Variables are created when you assign a value to them using the `=` operator."
   ]
  },
  {
   "cell_type": "code",
   "execution_count": 10,
   "metadata": {},
   "outputs": [
    {
     "name": "stdout",
     "output_type": "stream",
     "text": [
      "10 Hello, Python! True\n"
     ]
    }
   ],
   "source": [
    "x = 10\n",
    "y = \"Hello, Python!\"\n",
    "z = True\n",
    "print(x, y, z)"
   ]
  },
  {
   "cell_type": "markdown",
   "metadata": {},
   "source": [
    "#### 1.1.4 Data Types\n",
    "Python supports various data types, including:\n",
    "- **Integers**: Whole numbers\n",
    "- **Floats**: Decimal numbers\n",
    "- **Strings**: Text\n",
    "- **Booleans**: True or False\n",
    "- **Lists**: Ordered, mutable collections\n",
    "- **Tuples**: Ordered, immutable collections\n",
    "- **Dictionaries**: Key-value pairs\n",
    "- **Sets**: Unordered collections of unique elements"
   ]
  },
  {
   "cell_type": "code",
   "execution_count": 63,
   "metadata": {},
   "outputs": [
    {
     "name": "stdout",
     "output_type": "stream",
     "text": [
      "int_var: int\n",
      "float_var: float\n",
      "str_var: str\n",
      "bool_var: bool\n",
      "list_var: list\n",
      "tuple_var: tuple\n",
      "dict_var: dict\n",
      "set_var: set\n"
     ]
    }
   ],
   "source": [
    "# Examples of different data types\n",
    "int_var = 42\n",
    "float_var = 3.14159\n",
    "str_var = \"Python\"\n",
    "bool_var = True\n",
    "list_var = [1, 2, 3]\n",
    "tuple_var = (1, 2, 3)\n",
    "dict_var = {\"name\": \"Alice\", \"age\": 25}\n",
    "set_var = {1, 2, 3}\n",
    "\n",
    "print(f\"int_var: {type(int_var).__name__}\")\n",
    "print(f\"float_var: {type(float_var).__name__}\")\n",
    "print(f\"str_var: {type(str_var).__name__}\")\n",
    "print(f\"bool_var: {type(bool_var).__name__}\")\n",
    "print(f\"list_var: {type(list_var).__name__}\")\n",
    "print(f\"tuple_var: {type(tuple_var).__name__}\")\n",
    "print(f\"dict_var: {type(dict_var).__name__}\")\n",
    "print(f\"set_var: {type(set_var).__name__}\")"
   ]
  },
  {
   "cell_type": "markdown",
   "metadata": {},
   "source": [
    "## 2 Operators\n",
    "Operators are special symbols used to perform operations on variables and values. Python supports the following types of operators:\n",
    "- **Arithmetic Operators**: `+`, `-`, `*`, `/`, `//`, `%`, `**`\n",
    "- **Comparison Operators**: `==`, `!=`, `>`, `<`, `>=`, `<=`\n",
    "- **Logical Operators**: `and`, `or`, `not`\n",
    "- **Assignment Operators**: `=`, `+=`, `-=`, `*=`, `/=`, `//=`, `%=`, `**=`"
   ]
  },
  {
   "cell_type": "markdown",
   "metadata": {},
   "source": [
    "#### 2.1 Arithmetic Operators"
   ]
  },
  {
   "cell_type": "code",
   "execution_count": 61,
   "metadata": {},
   "outputs": [
    {
     "name": "stdout",
     "output_type": "stream",
     "text": [
      "a + b = 15\n",
      "a - b = 5\n",
      "a * b = 50\n",
      "a / b = 2.0\n",
      "a // b = 2\n",
      "a % b = 0\n",
      "a ** b = 100000\n"
     ]
    }
   ],
   "source": [
    "a, b = 10, 5\n",
    "\n",
    "print(f\"a + b = {a + b}\")\n",
    "print(f\"a - b = {a - b}\")\n",
    "print(f\"a * b = {a * b}\")\n",
    "print(f\"a / b = {a / b}\")\n",
    "print(f\"a // b = {a // b}\")\n",
    "print(f\"a % b = {a % b}\")\n",
    "print(f\"a ** b = {a ** b}\")"
   ]
  },
  {
   "cell_type": "markdown",
   "metadata": {},
   "source": [
    "#### 2.2 Comparison Operators"
   ]
  },
  {
   "cell_type": "code",
   "execution_count": 65,
   "metadata": {},
   "outputs": [
    {
     "name": "stdout",
     "output_type": "stream",
     "text": [
      "x == y: False\n",
      "x != y: True\n",
      "x > y: True\n",
      "x < y: False\n",
      "x >= y: True\n",
      "x <= y: False\n"
     ]
    }
   ],
   "source": [
    "x, y = 10, 5\n",
    "\n",
    "print(f\"x == y: {x == y}\")\n",
    "print(f\"x != y: {x != y}\")\n",
    "print(f\"x > y: {x > y}\")\n",
    "print(f\"x < y: {x < y}\")\n",
    "print(f\"x >= y: {x >= y}\")\n",
    "print(f\"x <= y: {x <= y}\")"
   ]
  },
  {
   "cell_type": "markdown",
   "metadata": {},
   "source": [
    "#### 2.3 Logical Operators"
   ]
  },
  {
   "cell_type": "code",
   "execution_count": 67,
   "metadata": {},
   "outputs": [
    {
     "name": "stdout",
     "output_type": "stream",
     "text": [
      "a and b: False\n",
      "a or b: True\n",
      "not a: False\n"
     ]
    }
   ],
   "source": [
    "a, b = True, False\n",
    "\n",
    "print(f\"a and b: {a and b}\")\n",
    "print(f\"a or b: {a or b}\")\n",
    "print(f\"not a: {not a}\")"
   ]
  },
  {
   "cell_type": "markdown",
   "metadata": {},
   "source": [
    "#### 2.4 Assignment Operators"
   ]
  },
  {
   "cell_type": "code",
   "execution_count": 69,
   "metadata": {},
   "outputs": [
    {
     "name": "stdout",
     "output_type": "stream",
     "text": [
      "x = 5\n",
      "x += 3: 8\n",
      "x -= 2: 6\n",
      "x *= 4: 24\n",
      "x /= 2: 12.0\n",
      "x //= 2: 6.0\n",
      "x %= 3: 0.0\n",
      "x **= 2: 0.0\n"
     ]
    }
   ],
   "source": [
    "x = 5\n",
    "print(f\"x = {x}\")\n",
    "\n",
    "x += 3\n",
    "print(f\"x += 3: {x}\")\n",
    "\n",
    "x -= 2\n",
    "print(f\"x -= 2: {x}\")\n",
    "\n",
    "x *= 4\n",
    "print(f\"x *= 4: {x}\")\n",
    "\n",
    "x /= 2\n",
    "print(f\"x /= 2: {x}\")\n",
    "\n",
    "x //= 2\n",
    "print(f\"x //= 2: {x}\")\n",
    "\n",
    "x %= 3\n",
    "print(f\"x %= 3: {x}\")\n",
    "\n",
    "x **= 2\n",
    "print(f\"x **= 2: {x}\")"
   ]
  },
  {
   "cell_type": "markdown",
   "metadata": {},
   "source": [
    "## 3 Control Flow\n",
    "Control flow allows you to control the execution order of code using conditional statements and loops."
   ]
  },
  {
   "cell_type": "markdown",
   "metadata": {},
   "source": [
    "### 3.1 Conditional Statements\n",
    "- `if` checks a condition\n",
    "- `elif` provides additional checks\n",
    "- `else` executes if no conditions match"
   ]
  },
  {
   "cell_type": "code",
   "execution_count": 24,
   "metadata": {},
   "outputs": [
    {
     "name": "stdout",
     "output_type": "stream",
     "text": [
      "Equal to 10\n"
     ]
    }
   ],
   "source": [
    "x = 10\n",
    "if x > 10:\n",
    "    print(\"Greater than 10\")\n",
    "elif x == 10:\n",
    "    print(\"Equal to 10\")\n",
    "else:\n",
    "    print(\"Less than 10\")"
   ]
  },
  {
   "cell_type": "markdown",
   "metadata": {},
   "source": [
    "### 3.2 Loops\n",
    "- **For Loop**: Iterates over a sequence.\n",
    "- **While Loop**: Repeats as long as a condition is true.\n",
    "- **break**: Exits the loop.\n",
    "- **continue**: Skips to the next iteration.\n",
    "- **pass**: Does nothing; placeholder."
   ]
  },
  {
   "cell_type": "code",
   "execution_count": 26,
   "metadata": {},
   "outputs": [
    {
     "name": "stdout",
     "output_type": "stream",
     "text": [
      "For loop iteration: 0\n",
      "For loop iteration: 1\n",
      "For loop iteration: 2\n",
      "For loop iteration: 4\n",
      "While loop iteration: 0\n",
      "While loop iteration: 1\n",
      "While loop iteration: 2\n",
      "While loop iteration: 3\n"
     ]
    }
   ],
   "source": [
    "# Example of for and while loop with break and continue\n",
    "for i in range(5):\n",
    "    if i == 3:\n",
    "        continue  # Skips when i is 3\n",
    "    print(\"For loop iteration:\", i)\n",
    "\n",
    "count = 0\n",
    "while count < 5:\n",
    "    print(\"While loop iteration:\", count)\n",
    "    if count == 3:\n",
    "        break  # Exits the loop when count is 3\n",
    "    count += 1\n",
    "\n",
    "# pass statement example\n",
    "for i in range(3):\n",
    "    pass  # Placeholder; does nothing"
   ]
  },
  {
   "cell_type": "markdown",
   "metadata": {},
   "source": [
    "## 4 Python Functions\n",
    "Functions are reusable blocks of code that perform a specific task.\n",
    "- **Defining Functions**: `def` keyword is used.\n",
    "- **Parameters and Arguments**: Values that functions accept.\n",
    "- **Return Statements**: Specify what a function returns.\n",
    "- **Lambda Functions**: Anonymous, single-line functions.\n",
    "- **Built-in Functions**: Python has built-in functions like `len`, `print`, `sum`, etc."
   ]
  },
  {
   "cell_type": "code",
   "execution_count": 71,
   "metadata": {},
   "outputs": [
    {
     "name": "stdout",
     "output_type": "stream",
     "text": [
      "Addition Result: 15\n",
      "Multiplication Result: 12\n"
     ]
    }
   ],
   "source": [
    "# Defining a function with parameters and a return statement\n",
    "# The `add` function takes two parameters `a` and `b` and returns their sum.\n",
    "def add(a, b):\n",
    "    return a + b\n",
    "\n",
    "# Calling the `add` function with arguments 10 and 5 and storing the result in `result`.\n",
    "result = add(10, 5)\n",
    "print(\"Addition Result:\", result)\n",
    "\n",
    "# Lambda function example\n",
    "# Defining an anonymous (lambda) function to multiply two values `x` and `y`.\n",
    "multiply = lambda x, y: x * y\n",
    "\n",
    "# Calling the lambda function with arguments 4 and 3 and printing the result.\n",
    "print(\"Multiplication Result:\", multiply(4, 3))"
   ]
  },
  {
   "cell_type": "markdown",
   "metadata": {},
   "source": [
    "## 5 Data Structures\n",
    "Python provides various data structures to store collections of data.\n",
    "- **Lists**: Mutable, ordered collections.\n",
    "- **Tuples**: Immutable, ordered collections.\n",
    "- **Dictionaries**: Key-value pairs.\n",
    "- **Sets**: Unordered, unique items."
   ]
  },
  {
   "cell_type": "markdown",
   "metadata": {},
   "source": [
    "### 5.1 Lists\n",
    "- Lists are defined with square brackets and can contain mixed data types.\n",
    "- **Indexing** and **Slicing** allow you to access specific elements.\n",
    "- Lists also support methods like `append`, `remove`, `pop`, and `sort`."
   ]
  },
  {
   "cell_type": "code",
   "execution_count": 31,
   "metadata": {},
   "outputs": [
    {
     "name": "stdout",
     "output_type": "stream",
     "text": [
      "First fruit: apple\n",
      "Last two fruits: ['cherry', 'date']\n",
      "Updated list: ['apple', 'cherry', 'date', 'elderberry']\n"
     ]
    }
   ],
   "source": [
    "# List example with indexing and slicing\n",
    "fruits = [\"apple\", \"banana\", \"cherry\", \"date\"]\n",
    "print(\"First fruit:\", fruits[0])\n",
    "print(\"Last two fruits:\", fruits[-2:])\n",
    "\n",
    "# List methods\n",
    "fruits.append(\"elderberry\")\n",
    "fruits.remove(\"banana\")\n",
    "print(\"Updated list:\", fruits)"
   ]
  },
  {
   "cell_type": "markdown",
   "metadata": {},
   "source": [
    "### 5.2 Tuples\n",
    "- Tuples are defined with parentheses and are immutable (cannot be changed after creation).\n",
    "- **Indexing** and **Slicing** allow you to access specific elements.\n",
    "- Tuples **do not** support methods like `append` or `remove` because they are immutable."
   ]
  },
  {
   "cell_type": "code",
   "execution_count": 77,
   "metadata": {},
   "outputs": [
    {
     "name": "stdout",
     "output_type": "stream",
     "text": [
      "First fruit: apple\n",
      "Last two fruits: ('cherry', 'date')\n"
     ]
    }
   ],
   "source": [
    "# Tuple example with indexing and slicing\n",
    "fruits = (\"apple\", \"banana\", \"cherry\", \"date\")\n",
    "print(\"First fruit:\", fruits[0])\n",
    "print(\"Last two fruits:\", fruits[-2:])\n",
    "\n",
    "# Attempting to modify the tuple will result in an error\n",
    "# fruits[0] = \"avocado\"  # Uncommenting this line would cause an error"
   ]
  },
  {
   "cell_type": "markdown",
   "metadata": {},
   "source": [
    "### 5.3 Dictionaries\n",
    "- Dictionaries are defined with curly braces and store data as key-value pairs.\n",
    "- You can **access**, **add**, and **modify** elements using keys.\n",
    "- Dictionaries support methods like `get`, `keys`, `values`, `items`, and `update`."
   ]
  },
  {
   "cell_type": "code",
   "execution_count": 80,
   "metadata": {},
   "outputs": [
    {
     "name": "stdout",
     "output_type": "stream",
     "text": [
      "Name: Alice\n",
      "Age: 25\n",
      "Updated dictionary: {'name': 'Alice', 'age': 26, 'city': 'New York', 'profession': 'Engineer'}\n"
     ]
    }
   ],
   "source": [
    "# Dictionary example with key-value access\n",
    "person = {\"name\": \"Alice\", \"age\": 25, \"city\": \"New York\"}\n",
    "print(\"Name:\", person[\"name\"])\n",
    "print(\"Age:\", person[\"age\"])\n",
    "\n",
    "# Dictionary methods\n",
    "person[\"age\"] = 26  # Updating age\n",
    "person[\"profession\"] = \"Engineer\"  # Adding a new key-value pair\n",
    "print(\"Updated dictionary:\", person)"
   ]
  },
  {
   "cell_type": "markdown",
   "metadata": {},
   "source": [
    "### 5.4 Sets\n",
    "- Sets are defined with curly braces and contain unordered, unique items.\n",
    "- Sets **do not** support **indexing** or **slicing** due to their unordered nature.\n",
    "- Sets support methods like `add`, `remove`, `pop`, `union`, `intersectio`, and `difference`."
   ]
  },
  {
   "cell_type": "code",
   "execution_count": 83,
   "metadata": {},
   "outputs": [
    {
     "name": "stdout",
     "output_type": "stream",
     "text": [
      "Initial set: {'apple', 'banana', 'cherry'}\n",
      "Updated set: {'date', 'apple', 'cherry'}\n"
     ]
    }
   ],
   "source": [
    "# Set example with unique elements\n",
    "fruits = {\"apple\", \"banana\", \"cherry\"}\n",
    "print(\"Initial set:\", fruits)\n",
    "\n",
    "# Set methods\n",
    "fruits.add(\"date\")  # Adding an element\n",
    "fruits.remove(\"banana\")  # Removing an element\n",
    "print(\"Updated set:\", fruits)"
   ]
  },
  {
   "cell_type": "markdown",
   "metadata": {},
   "source": [
    "## 6 File Handling\n",
    "Python provides functionality to work with files.\n",
    "- **Opening and Closing Files**: `open()` and `close()` methods.\n",
    "- **Reading from Files**: Using `read()` or `readlines()`.\n",
    "- **Writing to Files**: Using `write()`.\n",
    "- **Working with CSV Files**: Using `csv` library."
   ]
  },
  {
   "cell_type": "code",
   "execution_count": 33,
   "metadata": {},
   "outputs": [
    {
     "name": "stdout",
     "output_type": "stream",
     "text": [
      "File content: Hello, file handling!\n"
     ]
    }
   ],
   "source": [
    "# Writing to and reading from a file\n",
    "with open(\"example.txt\", \"w\") as file:\n",
    "    file.write(\"Hello, file handling!\")\n",
    "\n",
    "with open(\"example.txt\", \"r\") as file:\n",
    "    content = file.read()\n",
    "    print(\"File content:\", content)"
   ]
  },
  {
   "cell_type": "markdown",
   "metadata": {},
   "source": [
    "## 7 Error Handling\n",
    "Python uses `try`, `except`, `finally`, and `raise` for error handling."
   ]
  },
  {
   "cell_type": "code",
   "execution_count": 35,
   "metadata": {},
   "outputs": [
    {
     "name": "stdout",
     "output_type": "stream",
     "text": [
      "Cannot divide by zero!\n",
      "This will always execute.\n"
     ]
    }
   ],
   "source": [
    "# Error handling example\n",
    "try:\n",
    "    result = 10 / 0\n",
    "except ZeroDivisionError:\n",
    "    print(\"Cannot divide by zero!\")\n",
    "finally:\n",
    "    print(\"This will always execute.\")"
   ]
  },
  {
   "cell_type": "markdown",
   "metadata": {},
   "source": [
    "## 8 Object-Oriented Programming\n",
    "Python supports OOP principles like classes, objects, inheritance, and encapsulation."
   ]
  },
  {
   "cell_type": "code",
   "execution_count": 37,
   "metadata": {},
   "outputs": [
    {
     "name": "stdout",
     "output_type": "stream",
     "text": [
      "Cat makes a sound\n"
     ]
    }
   ],
   "source": [
    "# Defining a simple class and creating an object\n",
    "class Animal:\n",
    "    def __init__(self, name):\n",
    "        self.name = name\n",
    "    \n",
    "    def speak(self):\n",
    "        return f\"{self.name} makes a sound\"\n",
    "\n",
    "cat = Animal(\"Cat\")\n",
    "print(cat.speak())"
   ]
  },
  {
   "cell_type": "markdown",
   "metadata": {},
   "source": [
    "## 9 Modules and Packages\n",
    "Modules and packages allow you to organize and reuse code across files."
   ]
  },
  {
   "cell_type": "code",
   "execution_count": 39,
   "metadata": {},
   "outputs": [
    {
     "name": "stdout",
     "output_type": "stream",
     "text": [
      "4.0\n"
     ]
    }
   ],
   "source": [
    "# Importing and using a module\n",
    "import math\n",
    "print(math.sqrt(16))"
   ]
  },
  {
   "cell_type": "markdown",
   "metadata": {},
   "source": [
    "## 10 Advanced Topics\n",
    "Advanced Python includes list comprehensions, generator expressions, and decorators."
   ]
  },
  {
   "cell_type": "code",
   "execution_count": 41,
   "metadata": {},
   "outputs": [
    {
     "name": "stdout",
     "output_type": "stream",
     "text": [
      "[0, 1, 4, 9, 16, 25, 36, 49, 64, 81]\n",
      "[0, 1, 4, 9, 16, 25, 36, 49, 64, 81]\n",
      "Before function call\n",
      "Hello!\n",
      "After function call\n"
     ]
    }
   ],
   "source": [
    "# List comprehension\n",
    "squares = [x**2 for x in range(10)]\n",
    "print(squares)\n",
    "\n",
    "# Generator expression\n",
    "gen = (x**2 for x in range(10))\n",
    "print(list(gen))\n",
    "\n",
    "# Decorator example\n",
    "def decorator(func):\n",
    "    def wrapper():\n",
    "        print(\"Before function call\")\n",
    "        func()\n",
    "        print(\"After function call\")\n",
    "    return wrapper\n",
    "\n",
    "@decorator\n",
    "def say_hello():\n",
    "    print(\"Hello!\")\n",
    "\n",
    "say_hello()"
   ]
  }
 ],
 "metadata": {
  "kernelspec": {
   "display_name": "Python 3 (ipykernel)",
   "language": "python",
   "name": "python3"
  },
  "language_info": {
   "codemirror_mode": {
    "name": "ipython",
    "version": 3
   },
   "file_extension": ".py",
   "mimetype": "text/x-python",
   "name": "python",
   "nbconvert_exporter": "python",
   "pygments_lexer": "ipython3",
   "version": "3.11.7"
  }
 },
 "nbformat": 4,
 "nbformat_minor": 4
}
